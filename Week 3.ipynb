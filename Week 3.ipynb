{
 "cells": [
  {
   "cell_type": "markdown",
   "id": "05805404",
   "metadata": {},
   "source": [
    "# Week 3 Challenge Question\n"
   ]
  },
  {
   "cell_type": "code",
   "execution_count": 3,
   "id": "fb3aa6bd",
   "metadata": {},
   "outputs": [
    {
     "name": "stdout",
     "output_type": "stream",
     "text": [
      "Football is my favorite sport\n"
     ]
    }
   ],
   "source": [
    "element = 'Football'\n",
    "print('{} is my favorite sport' .format(element))\n",
    "\n"
   ]
  },
  {
   "cell_type": "markdown",
   "id": "62c12a4a",
   "metadata": {},
   "source": [
    "# User Input & Type Converting "
   ]
  },
  {
   "cell_type": "code",
   "execution_count": 4,
   "id": "fc7e4032",
   "metadata": {},
   "outputs": [
    {
     "name": "stdout",
     "output_type": "stream",
     "text": [
      "What is your name?Jason\n",
      "Jason\n"
     ]
    }
   ],
   "source": [
    "# accepting and outputting user input\n",
    "print( input('What is your name?'))"
   ]
  },
  {
   "cell_type": "code",
   "execution_count": 5,
   "id": "ee1404a1",
   "metadata": {},
   "outputs": [
    {
     "name": "stdout",
     "output_type": "stream",
     "text": [
      "What is your name? BOB\n",
      "Hello BOB!\n"
     ]
    }
   ],
   "source": [
    "# saving what the user inputs\n",
    "\n",
    "ans = input('What is your name? ')\n",
    "print('Hello {}!'.format(ans))"
   ]
  },
  {
   "cell_type": "markdown",
   "id": "51720353",
   "metadata": {},
   "source": [
    "# Checking the Type"
   ]
  },
  {
   "cell_type": "code",
   "execution_count": null,
   "id": "b36c7f91",
   "metadata": {},
   "outputs": [],
   "source": [
    "# how to check the data type of a veriable\n",
    "\n",
    "num = 5\n",
    "print(type(num))"
   ]
  },
  {
   "cell_type": "markdown",
   "id": "97814b08",
   "metadata": {},
   "source": [
    "# Converting Data Types"
   ]
  },
  {
   "cell_type": "code",
   "execution_count": null,
   "id": "3ed35468",
   "metadata": {},
   "outputs": [],
   "source": [
    "# Converting a variable from one data type to another\n",
    "\n",
    "num = '9'\n",
    "num = int(num)    #re-declaring num to store an integer\n",
    "print(type(num))  #checking type to make sure conversion worked"
   ]
  },
  {
   "cell_type": "markdown",
   "id": "f0e5d752",
   "metadata": {},
   "source": [
    "# Converting User Input"
   ]
  },
  {
   "cell_type": "code",
   "execution_count": 5,
   "id": "e3a6a839",
   "metadata": {},
   "outputs": [
    {
     "name": "stdout",
     "output_type": "stream",
     "text": [
      "Type a number to add: 1\n",
      "Type second number to add:1\n",
      "<class 'str'>\n",
      "<class 'str'>\n",
      "1 + 1 = 2\n"
     ]
    }
   ],
   "source": [
    "# Working with user input to preform calculations\n",
    "\n",
    "ans1 = input('Type a number to add: ')\n",
    "ans2 = input('Type second number to add:')\n",
    "print( type(ans1))   # default type is string, must convert\n",
    "print( type(ans2))\n",
    "result = int(ans1) + int(ans2)\n",
    "print('{} + {} = {}' .format(ans1, ans2,result))\n"
   ]
  },
  {
   "cell_type": "markdown",
   "id": "769e37ad",
   "metadata": {},
   "source": [
    "# Handling Errors"
   ]
  },
  {
   "cell_type": "code",
   "execution_count": 7,
   "id": "96f2f823",
   "metadata": {},
   "outputs": [
    {
     "name": "stdout",
     "output_type": "stream",
     "text": [
      "Type a number to add: \n",
      "You did not put in a valid number!\n",
      "The program did not break!\n"
     ]
    }
   ],
   "source": [
    "# Using the try and except blocks, use tab to indent where necessary \n",
    "\n",
    "try:\n",
    "    \n",
    "    ans = float( input('Type a number to add: '))\n",
    "    print( ' 100 + {} = {} '.format(ans, 100 + ans))\n",
    "    \n",
    "except:\n",
    "    \n",
    "    print('You did not put in a valid number!')\n",
    "\n",
    "# Without try/except print statement would not get if the error occurs\n",
    "\n",
    "print('The program did not break!')\n",
    "\n",
    "    "
   ]
  },
  {
   "cell_type": "markdown",
   "id": "90c35fdd",
   "metadata": {},
   "source": []
  },
  {
   "cell_type": "markdown",
   "id": "936f4c9e",
   "metadata": {},
   "source": [
    "# If Statements"
   ]
  },
  {
   "cell_type": "code",
   "execution_count": 11,
   "id": "8d1bfb6a",
   "metadata": {},
   "outputs": [
    {
     "name": "stdout",
     "output_type": "stream",
     "text": [
      "x is less than y\n"
     ]
    }
   ],
   "source": [
    "# Using an if statement to only run code if the condition is met\n",
    "\n",
    "x, y = 9, 10\n",
    "if x < y:\n",
    "    print('x is less than y')"
   ]
  },
  {
   "cell_type": "markdown",
   "id": "7b9af7d6",
   "metadata": {},
   "source": [
    "# Comparison Operators\n"
   ]
  },
  {
   "cell_type": "markdown",
   "id": "78fa9b88",
   "metadata": {},
   "source": [
    "### Checking User Input"
   ]
  },
  {
   "cell_type": "code",
   "execution_count": 2,
   "id": "77307a28",
   "metadata": {},
   "outputs": [
    {
     "name": "stdout",
     "output_type": "stream",
     "text": [
      "What is 5 + 5 ? 10\n",
      " You got it right!\n"
     ]
    }
   ],
   "source": [
    "# Checking User Input\n",
    "\n",
    "ans = int( input( 'What is 5 + 5 ? '))\n",
    "if ans == 10:\n",
    "    print(' You got it right!')"
   ]
  },
  {
   "cell_type": "markdown",
   "id": "3671f3e3",
   "metadata": {},
   "source": [
    "### Logical Operators\n"
   ]
  },
  {
   "cell_type": "markdown",
   "id": "8f83e9dc",
   "metadata": {},
   "source": [
    "##### Logical Operator \"and\""
   ]
  },
  {
   "cell_type": "code",
   "execution_count": 4,
   "id": "005c6586",
   "metadata": {},
   "outputs": [
    {
     "name": "stdout",
     "output_type": "stream",
     "text": [
      "Both statements were true\n"
     ]
    }
   ],
   "source": [
    "# using the keyword 'and ' in an 'if statement'\n",
    "\n",
    "x, y, z = 5, 10, 5\n",
    "if x < y and x == z :\n",
    "    print('Both statements were true')\n",
    "    "
   ]
  },
  {
   "cell_type": "markdown",
   "id": "d17f5fd5",
   "metadata": {},
   "source": [
    "### Logical Operator \"or\""
   ]
  },
  {
   "cell_type": "code",
   "execution_count": 7,
   "id": "b27fc9df",
   "metadata": {},
   "outputs": [
    {
     "name": "stdout",
     "output_type": "stream",
     "text": [
      "One or both statements were true\n"
     ]
    }
   ],
   "source": [
    "# using the keyword 'or ' in an 'if statement'\n",
    "\n",
    "x, y, z = 5, 10, 5\n",
    "if x < y or x != z:\n",
    "    print('One or both statements were true')\n",
    "    "
   ]
  },
  {
   "cell_type": "markdown",
   "id": "a40e795b",
   "metadata": {},
   "source": [
    "### Logical Operator 'not'"
   ]
  },
  {
   "cell_type": "code",
   "execution_count": 9,
   "id": "85d5368d",
   "metadata": {},
   "outputs": [
    {
     "name": "stdout",
     "output_type": "stream",
     "text": [
      "Flag is False\n"
     ]
    }
   ],
   "source": [
    "# using the keyword ' not' within an 'if statement'\n",
    "\n",
    "Flag = False            \n",
    "if not flag:                #same as saying if not true\n",
    "    \n",
    "    print('Flag is False')\n",
    "    "
   ]
  },
  {
   "cell_type": "markdown",
   "id": "73eafd44",
   "metadata": {},
   "source": [
    "# Membership Operators"
   ]
  },
  {
   "cell_type": "markdown",
   "id": "446ac5b8",
   "metadata": {},
   "source": [
    "### Membership Operator 'in'\n"
   ]
  },
  {
   "cell_type": "code",
   "execution_count": 10,
   "id": "c7bdf455",
   "metadata": {},
   "outputs": [
    {
     "name": "stdout",
     "output_type": "stream",
     "text": [
      " Baseball contains the character b\n"
     ]
    }
   ],
   "source": [
    "# using the keyword 'in' within an 'if statement'\n",
    "\n",
    "word = ' Baseball'\n",
    "if 'b' in word:\n",
    "    print( '{} contains the character b'.format(word))\n",
    "    "
   ]
  },
  {
   "cell_type": "markdown",
   "id": "933e8207",
   "metadata": {},
   "source": [
    "### Membership Operator 'not in'"
   ]
  },
  {
   "cell_type": "code",
   "execution_count": 14,
   "id": "4451f798",
   "metadata": {},
   "outputs": [
    {
     "name": "stdout",
     "output_type": "stream",
     "text": [
      "Baseball contains the character b\n",
      "Baseball does not contain the character x\n"
     ]
    }
   ],
   "source": [
    "# using keyword 'not in' within an ' if statement'\n",
    "\n",
    "ans = ('Type Baseball')\n",
    "\n",
    "\n",
    "word = \"Baseball\"\n",
    "if 'b' in word:\n",
    "    print( '{} contains the character b'.format(word))\n",
    "    \n",
    "\n",
    "if 'x' not in word:\n",
    "    print('{} does not contain the character x'.format(word))"
   ]
  },
  {
   "cell_type": "code",
   "execution_count": 21,
   "id": "15b985f2",
   "metadata": {},
   "outputs": [
    {
     "name": "stdout",
     "output_type": "stream",
     "text": [
      " type the word Baseball baseball\n",
      " baseball contains the characters se\n"
     ]
    }
   ],
   "source": [
    "# exercises 1\n",
    "\n",
    "ans = input (' type the word Baseball ')\n",
    "\n",
    "if 'se' in ans:\n",
    "    print(' {} contains the characters se'.format( ans))"
   ]
  },
  {
   "cell_type": "code",
   "execution_count": 31,
   "id": "b1851a7a",
   "metadata": {},
   "outputs": [
    {
     "name": "stdout",
     "output_type": "stream",
     "text": [
      " Hard shell Mexican food ending in co? Burrito\n",
      " wrong answer\n"
     ]
    }
   ],
   "source": [
    "# exercises 2\n",
    "\n",
    "ans = input (' Hard shell Mexican food ending in co? ' )\n",
    "\n",
    "if 'co' in ans:\n",
    "    print( 'Correct')\n",
    "    \n",
    "if 'co' not in ans:\n",
    "    print(' wrong answer')\n"
   ]
  },
  {
   "cell_type": "markdown",
   "id": "fa5e8fe4",
   "metadata": {},
   "source": [
    "# Elif Statements"
   ]
  },
  {
   "cell_type": "markdown",
   "id": "a328f030",
   "metadata": {},
   "source": [
    "### Writing Your Frist Elif Statement"
   ]
  },
  {
   "cell_type": "code",
   "execution_count": null,
   "id": "2933e5d7",
   "metadata": {},
   "outputs": [],
   "source": [
    "# using the elif conditional statement \n",
    "\n"
   ]
  }
 ],
 "metadata": {
  "kernelspec": {
   "display_name": "Python 3 (ipykernel)",
   "language": "python",
   "name": "python3"
  },
  "language_info": {
   "codemirror_mode": {
    "name": "ipython",
    "version": 3
   },
   "file_extension": ".py",
   "mimetype": "text/x-python",
   "name": "python",
   "nbconvert_exporter": "python",
   "pygments_lexer": "ipython3",
   "version": "3.9.13"
  }
 },
 "nbformat": 4,
 "nbformat_minor": 5
}
